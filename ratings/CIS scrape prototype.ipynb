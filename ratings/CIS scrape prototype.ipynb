{
 "cells": [
  {
   "cell_type": "code",
   "execution_count": 33,
   "metadata": {},
   "outputs": [],
   "source": [
    "from selenium import webdriver\n",
    "import pandas as pd"
   ]
  },
  {
   "cell_type": "code",
   "execution_count": 34,
   "metadata": {},
   "outputs": [],
   "source": [
    "driver = webdriver.Chrome('C:\\\\Users\\\\legen\\\\Documents\\\\Convergent Fall 2019\\\\chromedriver.exe')"
   ]
  },
  {
   "cell_type": "code",
   "execution_count": 35,
   "metadata": {},
   "outputs": [],
   "source": [
    "from selenium.webdriver.common.keys import Keys"
   ]
  },
  {
   "cell_type": "code",
   "execution_count": 36,
   "metadata": {},
   "outputs": [],
   "source": [
    "driver.get('https://login.utexas.edu')"
   ]
  },
  {
   "cell_type": "code",
   "execution_count": 37,
   "metadata": {},
   "outputs": [],
   "source": [
    "username = driver.find_element_by_id('IDToken1')\n",
    "password = driver.find_element_by_id('IDToken2')"
   ]
  },
  {
   "cell_type": "code",
   "execution_count": 38,
   "metadata": {},
   "outputs": [],
   "source": [
    "username.send_keys('<EUID HERE>')\n",
    "password.send_keys('<PASSWORD HERE>')"
   ]
  },
  {
   "cell_type": "code",
   "execution_count": 39,
   "metadata": {},
   "outputs": [],
   "source": [
    "driver.find_element_by_name('Login.Submit').click()"
   ]
  },
  {
   "cell_type": "code",
   "execution_count": 40,
   "metadata": {},
   "outputs": [],
   "source": [
    "driver.get('https://utdirect.utexas.edu/ctl/ecis/results/search.WBX')"
   ]
  },
  {
   "cell_type": "code",
   "execution_count": 41,
   "metadata": {},
   "outputs": [],
   "source": [
    "expand_header = driver.find_element_by_xpath('//*[@aria-expanded=\"false\"]')\n",
    "expand_header.click()\n",
    "prof_search = driver.find_element_by_id('s_in_search_course_dept')"
   ]
  },
  {
   "cell_type": "code",
   "execution_count": 42,
   "metadata": {},
   "outputs": [],
   "source": [
    "prof_search.send_keys('C S')"
   ]
  },
  {
   "cell_type": "code",
   "execution_count": 43,
   "metadata": {},
   "outputs": [],
   "source": [
    "search_button = driver.find_element_by_xpath('//form[@id=\"course_search_form\"]//input[@type=\"submit\" and @value=\"Search\"]')\n",
    "search_button.click()"
   ]
  },
  {
   "cell_type": "code",
   "execution_count": 47,
   "metadata": {},
   "outputs": [],
   "source": [
    "survey_links = []\n",
    "surveys = driver.find_elements_by_xpath('//*[contains(@href, \"view_results.WBX?s_me_cis_id=\")]')\n",
    "for s in surveys:\n",
    "    survey_links.append(s.get_attribute('href'))\n",
    "next_button = driver.find_element_by_xpath('//input[@type=\"submit\" and @value=\"Next page\"]')\n",
    "next_button.click()"
   ]
  },
  {
   "cell_type": "code",
   "execution_count": 49,
   "metadata": {},
   "outputs": [
    {
     "name": "stdout",
     "output_type": "stream",
     "text": [
      "https://utdirect.utexas.edu/ctl/ecis/results/view_results.WBX?s_me_cis_id=2013953615000001\n",
      "https://utdirect.utexas.edu/ctl/ecis/results/view_results.WBX?s_me_cis_id=2014253482000001\n",
      "https://utdirect.utexas.edu/ctl/ecis/results/view_results.WBX?s_me_cis_id=2008255383000001\n",
      "https://utdirect.utexas.edu/ctl/ecis/results/view_results.WBX?s_me_cis_id=2016250870000001\n",
      "https://utdirect.utexas.edu/ctl/ecis/results/view_results.WBX?s_me_cis_id=2006956120000001\n",
      "https://utdirect.utexas.edu/ctl/ecis/results/view_results.WBX?s_me_cis_id=2007956340000001\n",
      "https://utdirect.utexas.edu/ctl/ecis/results/view_results.WBX?s_me_cis_id=2013953610000001\n",
      "https://utdirect.utexas.edu/ctl/ecis/results/view_results.WBX?s_me_cis_id=2006956125000001\n",
      "https://utdirect.utexas.edu/ctl/ecis/results/view_results.WBX?s_me_cis_id=2006956126000001\n",
      "https://utdirect.utexas.edu/ctl/ecis/results/view_results.WBX?s_me_cis_id=2009954525000001\n"
     ]
    }
   ],
   "source": [
    "for link in survey_links:\n",
    "    print(link)"
   ]
  },
  {
   "cell_type": "code",
   "execution_count": null,
   "metadata": {},
   "outputs": [],
   "source": []
  }
 ],
 "metadata": {
  "kernelspec": {
   "display_name": "convergentnlp",
   "language": "python",
   "name": "convergentnlp"
  },
  "language_info": {
   "codemirror_mode": {
    "name": "ipython",
    "version": 3
   },
   "file_extension": ".py",
   "mimetype": "text/x-python",
   "name": "python",
   "nbconvert_exporter": "python",
   "pygments_lexer": "ipython3",
   "version": "3.5.6"
  }
 },
 "nbformat": 4,
 "nbformat_minor": 2
}
